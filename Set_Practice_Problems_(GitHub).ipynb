{
  "nbformat": 4,
  "nbformat_minor": 0,
  "metadata": {
    "colab": {
      "name": "Set Practice Problems (GitHub).ipynb",
      "provenance": [],
      "collapsed_sections": [],
      "authorship_tag": "ABX9TyNKtPCOQFijImgsQoNjLmIv",
      "include_colab_link": true
    },
    "kernelspec": {
      "name": "python3",
      "display_name": "Python 3"
    }
  },
  "cells": [
    {
      "cell_type": "markdown",
      "metadata": {
        "id": "view-in-github",
        "colab_type": "text"
      },
      "source": [
        "<a href=\"https://colab.research.google.com/github/ShivanshGupta1/Sets-Practice/blob/main/Set_Practice_Problems_(GitHub).ipynb\" target=\"_parent\"><img src=\"https://colab.research.google.com/assets/colab-badge.svg\" alt=\"Open In Colab\"/></a>"
      ]
    },
    {
      "cell_type": "code",
      "metadata": {
        "id": "aWOphGJuWJTx",
        "colab": {
          "base_uri": "https://localhost:8080/",
          "height": 85
        },
        "outputId": "63fbb67a-b6bd-498c-f3c5-683968933b6c"
      },
      "source": [
        "fruits = {\"Mango\",\"Apple\",\"Orange\",\"Banana\"}\n",
        "print(\"Original set - \", fruits)\n",
        "inputNumber = int(input(\"Number 1 to add, 2 to delete and 3 to update: \"))\n",
        "if inputNumber==1:\n",
        "  add = input(\"What do you want to add? \")\n",
        "  fruits.add(add)\n",
        "  print(\"New set - \", fruits)\n",
        "elif inputNumber==2:\n",
        "  delete = input(\"What do you want to delete? \")\n",
        "  fruits.discard(delete)\n",
        "  print(\"New set - \", fruits)\n",
        "else:\n",
        "  update = input(\"What do you want to update\")\n",
        "  update = update.split(\",\")\n",
        "  fruits.update(update)\n",
        "  print(\"New set - \", fruits)"
      ],
      "execution_count": null,
      "outputs": [
        {
          "output_type": "stream",
          "text": [
            "Original set -  {'Banana', 'Orange', 'Apple', 'Mango'}\n",
            "Number 1 to add, 2 to delete and 3 to update: 1\n",
            "What do you want to add? Kiwi\n",
            "New set -  {'Kiwi', 'Apple', 'Orange', 'Banana', 'Mango'}\n"
          ],
          "name": "stdout"
        }
      ]
    },
    {
      "cell_type": "code",
      "metadata": {
        "id": "CKvCuBpgkPxG",
        "colab": {
          "base_uri": "https://localhost:8080/",
          "height": 51
        },
        "outputId": "143012f1-9c24-4f92-a2d8-53e8e75596fa"
      },
      "source": [
        "fib_series = {0,1,1,2,3,5,8,13,21}\n",
        "even_series = {0,2,4,6,8,10,12,14}\n",
        "inpt = int(input(\"Let's check if it is there in the set: \"))\n",
        "if inpt in fib_series:\n",
        "  if inpt in even_series:\n",
        "    print(\"It is in both\")\n",
        "  else:\n",
        "     print(\"It is in - \", fib_series, \" set\")\n",
        "else:\n",
        "  print(\"It is in - \", even_series, \" set\")"
      ],
      "execution_count": null,
      "outputs": [
        {
          "output_type": "stream",
          "text": [
            "Let's check if it is there in the set: 14\n",
            "It is in -  {0, 2, 4, 6, 8, 10, 12, 14}  set\n"
          ],
          "name": "stdout"
        }
      ]
    },
    {
      "cell_type": "code",
      "metadata": {
        "id": "qIZIDqoIjG6L",
        "colab": {
          "base_uri": "https://localhost:8080/",
          "height": 130
        },
        "outputId": "afaafb35-a3d8-4327-e68e-7d74a849466b"
      },
      "source": [
        "fruits = {\"Mango\",\"Apple\",\"Orange\",\"Banana\"}\n",
        "print(\"Original set - \", fruits)\n",
        "while(True):\n",
        "  inputNumber = int(input(\"Number 1 to add, 2 to delete and 3 to update: \"))\n",
        "  if inputNumber==1:\n",
        "   add = input(\"What do you want to add? \")\n",
        "   fruits.add(add)\n",
        "   inputStop = input(\"Do you want to stop? \")\n",
        "   if inputStop==\"yes\" or inputStop==\"Yes\":\n",
        "     break\n",
        "  print(\"New set - \", fruits)\n",
        "  elif inputNumber==2:\n",
        "    delete = input(\"What do you want to delete? \")\n",
        "    fruits.discard(delete)\n",
        "    print(\"New set - \", fruits)\n",
        "    inputStop = input(\"Do you want to stop? \")\n",
        "    if inputStop==\"yes\" or inputStop==\"Yes\":\n",
        "      break\n",
        "   else:\n",
        "    update = input(\"What do you want to update\")\n",
        "    update = update.split(\",\")\n",
        "    fruits.update(update)\n",
        "    print(\"New set - \", fruits)\n",
        "    inputStop = input(\"Do you want to stop? \")\n",
        "    if inputStop==\"yes\" or inputStop==\"Yes\":\n",
        "      break"
      ],
      "execution_count": null,
      "outputs": [
        {
          "output_type": "error",
          "ename": "SyntaxError",
          "evalue": "ignored",
          "traceback": [
            "\u001b[0;36m  File \u001b[0;32m\"<ipython-input-8-d71a51fd6802>\"\u001b[0;36m, line \u001b[0;32m12\u001b[0m\n\u001b[0;31m    elif inputNumber==2:\u001b[0m\n\u001b[0m       ^\u001b[0m\n\u001b[0;31mSyntaxError\u001b[0m\u001b[0;31m:\u001b[0m invalid syntax\n"
          ]
        }
      ]
    },
    {
      "cell_type": "code",
      "metadata": {
        "id": "LsQcr2UkkIoR",
        "colab": {
          "base_uri": "https://localhost:8080/",
          "height": 204
        },
        "outputId": "dbb3fa7a-12d2-4277-c846-522ce44a6501"
      },
      "source": [
        "fruits = {\"Mango\",\"Apple\",\"Orange\",\"Banana\"}\n",
        "print(\"Original set - \", fruits)\n",
        "\n",
        "while(True):\n",
        "  inputNumber = int(input(\"Number 1 to add, 2 to delete, 3 to update and negative number to stop: \"))\n",
        "  if inputNumber==1:\n",
        "    add = input(\"What do you want to add? \")\n",
        "    fruits.add(add)\n",
        "    print(\"New set - \", fruits)\n",
        "  elif inputNumber==2:\n",
        "    delete = input(\"What do you want to delete? \")\n",
        "    fruits.discard(delete)\n",
        "    print(\"New set - \", fruits)\n",
        "  elif inputNumber==3:\n",
        "    update = input(\"What do you want to update\")\n",
        "    update = update.split(\",\")\n",
        "    fruits.update(update) \n",
        "    print(\"New set - \", fruits)\n",
        "  else:\n",
        "    break"
      ],
      "execution_count": null,
      "outputs": [
        {
          "output_type": "stream",
          "text": [
            "Original set -  {'Banana', 'Orange', 'Apple', 'Mango'}\n",
            "Number 1 to add, 2 to delete, 3 to update and negative number to stop: 1\n",
            "What do you want to add? Kiwi\n",
            "New set -  {'Kiwi', 'Apple', 'Orange', 'Banana', 'Mango'}\n",
            "Number 1 to add, 2 to delete, 3 to update and negative number to stop: 2\n",
            "What do you want to delete? Kiwi\n",
            "New set -  {'Apple', 'Orange', 'Banana', 'Mango'}\n",
            "Number 1 to add, 2 to delete, 3 to update and negative number to stop: 3\n",
            "What do you want to updateKiwi,Pineapple\n",
            "New set -  {'Kiwi', 'Apple', 'Orange', 'Banana', 'Pineapple', 'Mango'}\n",
            "Number 1 to add, 2 to delete, 3 to update and negative number to stop: -2\n"
          ],
          "name": "stdout"
        }
      ]
    },
    {
      "cell_type": "code",
      "metadata": {
        "id": "oIkhR5XWmZFS",
        "colab": {
          "base_uri": "https://localhost:8080/",
          "height": 51
        },
        "outputId": "723557b9-c742-40c1-d17f-4da3f6de8a60"
      },
      "source": [
        "def validate(inputText): # this function is checking whether a string has unique chracters or not\n",
        "  emptySet = set()\n",
        "  for i in inputText: # the for loop is used to reapeat and check if the chracters are unique or not\n",
        "    if i in emptySet: # checking if there is a chracter existing in the set\n",
        "      return False\n",
        "    else:\n",
        "      emptySet.add(i)\n",
        "  return True\n",
        "inputText = input(\"Any: \") # test string\n",
        "flag = validate(inputText)# we are storing the return value of the function\n",
        "if flag: # this is checking is the return value is true or not\n",
        "  print(\"It does not have repeated characters\")\n",
        "else:\n",
        "  print(\"It has repeated characters\") "
      ],
      "execution_count": null,
      "outputs": [
        {
          "output_type": "stream",
          "text": [
            "Any: happy\n",
            "It has repeated characters\n"
          ],
          "name": "stdout"
        }
      ]
    },
    {
      "cell_type": "code",
      "metadata": {
        "id": "0KwclxA4r9C2",
        "colab": {
          "base_uri": "https://localhost:8080/",
          "height": 204
        },
        "outputId": "c30b5a7a-0a6f-4dd6-b70f-fbab620ae378"
      },
      "source": [
        "fruits = {\"Mango\",\"Apple\",\"Orange\",\"Banana\"}\n",
        "print(\"Original set - \", fruits)\n",
        "def add(): #this functions adds any element to the set based on the number 1 called\n",
        "    add = input(\"What do you want to add? \") \n",
        "    fruits.add(add)\n",
        "    print(\"New set - \", fruits)\n",
        "def delete(): #this function deletes any 1 element from the set based on the number 2 called\n",
        "    delete = input(\"What do you want to delete? \")\n",
        "    fruits.discard(delete)\n",
        "    print(\"New set - \", fruits)\n",
        "def update():#this functions updates multiple elements from the set based on the number 3 called\n",
        "    update = input(\"What do you want to update\")\n",
        "    update = update.split(\",\")\n",
        "    fruits.update(update) \n",
        "    print(\"New set - \", fruits)\n",
        "while(True):\n",
        "  inputNumber = int(input(\"Number 1 to add, 2 to delete, 3 to update and negative number to stop: \"))\n",
        "  if inputNumber==1:\n",
        "    add()\n",
        "  elif inputNumber==2:\n",
        "    delete()\n",
        "  elif inputNumber==3:\n",
        "    update()\n",
        "  else:\n",
        "    break"
      ],
      "execution_count": null,
      "outputs": [
        {
          "output_type": "stream",
          "text": [
            "Original set -  {'Apple', 'Orange', 'Banana', 'Mango'}\n",
            "Number 1 to add, 2 to delete, 3 to update and negative number to stop: 1\n",
            "What do you want to add? kiwi\n",
            "New set -  {'Apple', 'Mango', 'Banana', 'Orange', 'kiwi'}\n",
            "Number 1 to add, 2 to delete, 3 to update and negative number to stop: 2\n",
            "What do you want to delete? kiwi\n",
            "New set -  {'Apple', 'Mango', 'Banana', 'Orange'}\n",
            "Number 1 to add, 2 to delete, 3 to update and negative number to stop: 3\n",
            "What do you want to updatekiwi,pineapple\n",
            "New set -  {'Apple', 'Mango', 'pineapple', 'Banana', 'Orange', 'kiwi'}\n",
            "Number 1 to add, 2 to delete, 3 to update and negative number to stop: -133\n"
          ],
          "name": "stdout"
        }
      ]
    }
  ]
}